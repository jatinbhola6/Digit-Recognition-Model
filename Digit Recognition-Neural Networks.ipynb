{
 "cells": [
  {
   "cell_type": "code",
   "execution_count": 1,
   "metadata": {},
   "outputs": [],
   "source": [
    "import pandas as pd\n",
    "import numpy as np\n",
    "from sklearn import metrics\n",
    "from sklearn.model_selection import train_test_split\n",
    "from sklearn.decomposition import PCA\n",
    "import matplotlib.pyplot as plt\n",
    "from tensorflow import keras\n",
    "from tensorflow.keras import layers\n",
    "from sklearn.preprocessing import MinMaxScaler"
   ]
  },
  {
   "cell_type": "markdown",
   "metadata": {},
   "source": [
    "### Training"
   ]
  },
  {
   "cell_type": "code",
   "execution_count": 2,
   "metadata": {},
   "outputs": [],
   "source": [
    "digits_data = pd.read_csv('mnist_train.csv')"
   ]
  },
  {
   "cell_type": "code",
   "execution_count": 3,
   "metadata": {},
   "outputs": [
    {
     "data": {
      "text/html": [
       "<div>\n",
       "<style scoped>\n",
       "    .dataframe tbody tr th:only-of-type {\n",
       "        vertical-align: middle;\n",
       "    }\n",
       "\n",
       "    .dataframe tbody tr th {\n",
       "        vertical-align: top;\n",
       "    }\n",
       "\n",
       "    .dataframe thead th {\n",
       "        text-align: right;\n",
       "    }\n",
       "</style>\n",
       "<table border=\"1\" class=\"dataframe\">\n",
       "  <thead>\n",
       "    <tr style=\"text-align: right;\">\n",
       "      <th></th>\n",
       "      <th>label</th>\n",
       "      <th>1x1</th>\n",
       "      <th>1x2</th>\n",
       "      <th>1x3</th>\n",
       "      <th>1x4</th>\n",
       "      <th>1x5</th>\n",
       "      <th>1x6</th>\n",
       "      <th>1x7</th>\n",
       "      <th>1x8</th>\n",
       "      <th>1x9</th>\n",
       "      <th>...</th>\n",
       "      <th>28x19</th>\n",
       "      <th>28x20</th>\n",
       "      <th>28x21</th>\n",
       "      <th>28x22</th>\n",
       "      <th>28x23</th>\n",
       "      <th>28x24</th>\n",
       "      <th>28x25</th>\n",
       "      <th>28x26</th>\n",
       "      <th>28x27</th>\n",
       "      <th>28x28</th>\n",
       "    </tr>\n",
       "  </thead>\n",
       "  <tbody>\n",
       "    <tr>\n",
       "      <th>0</th>\n",
       "      <td>5</td>\n",
       "      <td>0</td>\n",
       "      <td>0</td>\n",
       "      <td>0</td>\n",
       "      <td>0</td>\n",
       "      <td>0</td>\n",
       "      <td>0</td>\n",
       "      <td>0</td>\n",
       "      <td>0</td>\n",
       "      <td>0</td>\n",
       "      <td>...</td>\n",
       "      <td>0</td>\n",
       "      <td>0</td>\n",
       "      <td>0</td>\n",
       "      <td>0</td>\n",
       "      <td>0</td>\n",
       "      <td>0</td>\n",
       "      <td>0</td>\n",
       "      <td>0</td>\n",
       "      <td>0</td>\n",
       "      <td>0</td>\n",
       "    </tr>\n",
       "    <tr>\n",
       "      <th>1</th>\n",
       "      <td>0</td>\n",
       "      <td>0</td>\n",
       "      <td>0</td>\n",
       "      <td>0</td>\n",
       "      <td>0</td>\n",
       "      <td>0</td>\n",
       "      <td>0</td>\n",
       "      <td>0</td>\n",
       "      <td>0</td>\n",
       "      <td>0</td>\n",
       "      <td>...</td>\n",
       "      <td>0</td>\n",
       "      <td>0</td>\n",
       "      <td>0</td>\n",
       "      <td>0</td>\n",
       "      <td>0</td>\n",
       "      <td>0</td>\n",
       "      <td>0</td>\n",
       "      <td>0</td>\n",
       "      <td>0</td>\n",
       "      <td>0</td>\n",
       "    </tr>\n",
       "    <tr>\n",
       "      <th>2</th>\n",
       "      <td>4</td>\n",
       "      <td>0</td>\n",
       "      <td>0</td>\n",
       "      <td>0</td>\n",
       "      <td>0</td>\n",
       "      <td>0</td>\n",
       "      <td>0</td>\n",
       "      <td>0</td>\n",
       "      <td>0</td>\n",
       "      <td>0</td>\n",
       "      <td>...</td>\n",
       "      <td>0</td>\n",
       "      <td>0</td>\n",
       "      <td>0</td>\n",
       "      <td>0</td>\n",
       "      <td>0</td>\n",
       "      <td>0</td>\n",
       "      <td>0</td>\n",
       "      <td>0</td>\n",
       "      <td>0</td>\n",
       "      <td>0</td>\n",
       "    </tr>\n",
       "    <tr>\n",
       "      <th>3</th>\n",
       "      <td>1</td>\n",
       "      <td>0</td>\n",
       "      <td>0</td>\n",
       "      <td>0</td>\n",
       "      <td>0</td>\n",
       "      <td>0</td>\n",
       "      <td>0</td>\n",
       "      <td>0</td>\n",
       "      <td>0</td>\n",
       "      <td>0</td>\n",
       "      <td>...</td>\n",
       "      <td>0</td>\n",
       "      <td>0</td>\n",
       "      <td>0</td>\n",
       "      <td>0</td>\n",
       "      <td>0</td>\n",
       "      <td>0</td>\n",
       "      <td>0</td>\n",
       "      <td>0</td>\n",
       "      <td>0</td>\n",
       "      <td>0</td>\n",
       "    </tr>\n",
       "    <tr>\n",
       "      <th>4</th>\n",
       "      <td>9</td>\n",
       "      <td>0</td>\n",
       "      <td>0</td>\n",
       "      <td>0</td>\n",
       "      <td>0</td>\n",
       "      <td>0</td>\n",
       "      <td>0</td>\n",
       "      <td>0</td>\n",
       "      <td>0</td>\n",
       "      <td>0</td>\n",
       "      <td>...</td>\n",
       "      <td>0</td>\n",
       "      <td>0</td>\n",
       "      <td>0</td>\n",
       "      <td>0</td>\n",
       "      <td>0</td>\n",
       "      <td>0</td>\n",
       "      <td>0</td>\n",
       "      <td>0</td>\n",
       "      <td>0</td>\n",
       "      <td>0</td>\n",
       "    </tr>\n",
       "  </tbody>\n",
       "</table>\n",
       "<p>5 rows × 785 columns</p>\n",
       "</div>"
      ],
      "text/plain": [
       "   label  1x1  1x2  1x3  1x4  1x5  1x6  1x7  1x8  1x9  ...  28x19  28x20  \\\n",
       "0      5    0    0    0    0    0    0    0    0    0  ...      0      0   \n",
       "1      0    0    0    0    0    0    0    0    0    0  ...      0      0   \n",
       "2      4    0    0    0    0    0    0    0    0    0  ...      0      0   \n",
       "3      1    0    0    0    0    0    0    0    0    0  ...      0      0   \n",
       "4      9    0    0    0    0    0    0    0    0    0  ...      0      0   \n",
       "\n",
       "   28x21  28x22  28x23  28x24  28x25  28x26  28x27  28x28  \n",
       "0      0      0      0      0      0      0      0      0  \n",
       "1      0      0      0      0      0      0      0      0  \n",
       "2      0      0      0      0      0      0      0      0  \n",
       "3      0      0      0      0      0      0      0      0  \n",
       "4      0      0      0      0      0      0      0      0  \n",
       "\n",
       "[5 rows x 785 columns]"
      ]
     },
     "execution_count": 3,
     "metadata": {},
     "output_type": "execute_result"
    }
   ],
   "source": [
    "digits_data.head()"
   ]
  },
  {
   "cell_type": "code",
   "execution_count": 4,
   "metadata": {},
   "outputs": [],
   "source": [
    "X = digits_data.drop('label',axis=1)\n",
    "y = digits_data.label"
   ]
  },
  {
   "cell_type": "code",
   "execution_count": 5,
   "metadata": {},
   "outputs": [],
   "source": [
    "scaler = MinMaxScaler()\n",
    "X = scaler.fit_transform(X)"
   ]
  },
  {
   "cell_type": "code",
   "execution_count": 6,
   "metadata": {},
   "outputs": [],
   "source": [
    "y_dummies = pd.get_dummies(y)"
   ]
  },
  {
   "cell_type": "code",
   "execution_count": 62,
   "metadata": {},
   "outputs": [],
   "source": [
    "pca = PCA(0.98,random_state=19)\n",
    "X_pca = pca.fit_transform(X)"
   ]
  },
  {
   "cell_type": "code",
   "execution_count": 23,
   "metadata": {},
   "outputs": [],
   "source": [
    "inp_layer = keras.Input(shape=(784,))\n",
    "fc_layer1 = layers.Dense(128, activation='relu')(inp_layer)\n",
    "fc_layer2 = layers.Dense(64, activation='relu')(fc_layer1)\n",
    "fc_layer3 = layers.Dense(32, activation='relu')(fc_layer2)\n",
    "output_layer = layers.Dense(10, activation='softmax')(fc_layer3)\n",
    "nn_model = keras.Model(inp_layer,output_layer)\n",
    "nn_model.compile(loss=keras.losses.CategoricalCrossentropy(),optimizer=keras.optimizers.RMSprop(),metrics=['accuracy'])"
   ]
  },
  {
   "cell_type": "code",
   "execution_count": 24,
   "metadata": {
    "scrolled": true
   },
   "outputs": [
    {
     "name": "stdout",
     "output_type": "stream",
     "text": [
      "Epoch 1/30\n",
      "329/329 [==============================] - 1s 3ms/step - loss: 0.4113 - accuracy: 0.8842 - val_loss: 0.2008 - val_accuracy: 0.9419\n",
      "Epoch 2/30\n",
      "329/329 [==============================] - 1s 3ms/step - loss: 0.1676 - accuracy: 0.9489 - val_loss: 0.1548 - val_accuracy: 0.9538\n",
      "Epoch 3/30\n",
      "329/329 [==============================] - 1s 3ms/step - loss: 0.1181 - accuracy: 0.9646 - val_loss: 0.1577 - val_accuracy: 0.9519\n",
      "Epoch 4/30\n",
      "329/329 [==============================] - 1s 3ms/step - loss: 0.0890 - accuracy: 0.9717 - val_loss: 0.1359 - val_accuracy: 0.9619\n",
      "Epoch 5/30\n",
      "329/329 [==============================] - 1s 3ms/step - loss: 0.0714 - accuracy: 0.9785 - val_loss: 0.1380 - val_accuracy: 0.9584\n",
      "Epoch 6/30\n",
      "329/329 [==============================] - 1s 3ms/step - loss: 0.0574 - accuracy: 0.9824 - val_loss: 0.1115 - val_accuracy: 0.9698\n",
      "Epoch 7/30\n",
      "329/329 [==============================] - 1s 3ms/step - loss: 0.0447 - accuracy: 0.9858 - val_loss: 0.1309 - val_accuracy: 0.9673\n",
      "Epoch 8/30\n",
      "329/329 [==============================] - 1s 3ms/step - loss: 0.0381 - accuracy: 0.9882 - val_loss: 0.1109 - val_accuracy: 0.9702\n",
      "Epoch 9/30\n",
      "329/329 [==============================] - 1s 3ms/step - loss: 0.0313 - accuracy: 0.9900 - val_loss: 0.1110 - val_accuracy: 0.9706\n",
      "Epoch 10/30\n",
      "329/329 [==============================] - 1s 3ms/step - loss: 0.0249 - accuracy: 0.9921 - val_loss: 0.1263 - val_accuracy: 0.9714\n",
      "Epoch 11/30\n",
      "329/329 [==============================] - 1s 3ms/step - loss: 0.0210 - accuracy: 0.9930 - val_loss: 0.1385 - val_accuracy: 0.9687\n",
      "Epoch 12/30\n",
      "329/329 [==============================] - 1s 3ms/step - loss: 0.0179 - accuracy: 0.9940 - val_loss: 0.1288 - val_accuracy: 0.9736\n",
      "Epoch 13/30\n",
      "329/329 [==============================] - 1s 3ms/step - loss: 0.0153 - accuracy: 0.9949 - val_loss: 0.1555 - val_accuracy: 0.9661\n",
      "Epoch 14/30\n",
      "329/329 [==============================] - 1s 3ms/step - loss: 0.0132 - accuracy: 0.9956 - val_loss: 0.1402 - val_accuracy: 0.9724\n",
      "Epoch 15/30\n",
      "329/329 [==============================] - 1s 3ms/step - loss: 0.0110 - accuracy: 0.9964 - val_loss: 0.1517 - val_accuracy: 0.9710\n",
      "Epoch 16/30\n",
      "329/329 [==============================] - 1s 3ms/step - loss: 0.0090 - accuracy: 0.9969 - val_loss: 0.1697 - val_accuracy: 0.9682\n",
      "Epoch 17/30\n",
      "329/329 [==============================] - 1s 3ms/step - loss: 0.0085 - accuracy: 0.9973 - val_loss: 0.1644 - val_accuracy: 0.9725\n",
      "Epoch 18/30\n",
      "329/329 [==============================] - 1s 3ms/step - loss: 0.0073 - accuracy: 0.9976 - val_loss: 0.1525 - val_accuracy: 0.9732\n",
      "Epoch 19/30\n",
      "329/329 [==============================] - 1s 3ms/step - loss: 0.0064 - accuracy: 0.9978 - val_loss: 0.1638 - val_accuracy: 0.9734\n",
      "Epoch 20/30\n",
      "329/329 [==============================] - 1s 3ms/step - loss: 0.0057 - accuracy: 0.9982 - val_loss: 0.1749 - val_accuracy: 0.9736\n",
      "Epoch 21/30\n",
      "329/329 [==============================] - 1s 3ms/step - loss: 0.0055 - accuracy: 0.9981 - val_loss: 0.1874 - val_accuracy: 0.9718\n",
      "Epoch 22/30\n",
      "329/329 [==============================] - 1s 3ms/step - loss: 0.0047 - accuracy: 0.9985 - val_loss: 0.1788 - val_accuracy: 0.9733\n",
      "Epoch 23/30\n",
      "329/329 [==============================] - 1s 3ms/step - loss: 0.0044 - accuracy: 0.9986 - val_loss: 0.2146 - val_accuracy: 0.9688\n",
      "Epoch 24/30\n",
      "329/329 [==============================] - 1s 3ms/step - loss: 0.0039 - accuracy: 0.9988 - val_loss: 0.1921 - val_accuracy: 0.9716\n",
      "Epoch 25/30\n",
      "329/329 [==============================] - 1s 3ms/step - loss: 0.0034 - accuracy: 0.9990 - val_loss: 0.1913 - val_accuracy: 0.9745\n",
      "Epoch 26/30\n",
      "329/329 [==============================] - 1s 3ms/step - loss: 0.0031 - accuracy: 0.9988 - val_loss: 0.2033 - val_accuracy: 0.9743\n",
      "Epoch 27/30\n",
      "329/329 [==============================] - 1s 3ms/step - loss: 0.0033 - accuracy: 0.9988 - val_loss: 0.2066 - val_accuracy: 0.9737\n",
      "Epoch 28/30\n",
      "329/329 [==============================] - 1s 3ms/step - loss: 0.0029 - accuracy: 0.9992 - val_loss: 0.2283 - val_accuracy: 0.9718\n",
      "Epoch 29/30\n",
      "329/329 [==============================] - 1s 3ms/step - loss: 0.0031 - accuracy: 0.9991 - val_loss: 0.2249 - val_accuracy: 0.9748\n",
      "Epoch 30/30\n",
      "329/329 [==============================] - 1s 3ms/step - loss: 0.0024 - accuracy: 0.9992 - val_loss: 0.2315 - val_accuracy: 0.9733\n"
     ]
    }
   ],
   "source": [
    "history = nn_model.fit(X, y_dummies, epochs=30, batch_size=128, validation_split=0.3)"
   ]
  },
  {
   "cell_type": "code",
   "execution_count": 26,
   "metadata": {},
   "outputs": [
    {
     "data": {
      "image/png": "[encoded data removed]",
      "text/plain": [
       "<Figure size 432x288 with 1 Axes>"
      ]
     },
     "metadata": {
      "needs_background": "light"
     },
     "output_type": "display_data"
    },
    {
     "data": {
      "image/png": "[encoded data removed]",
      "text/plain": [
       "<Figure size 432x288 with 1 Axes>"
      ]
     },
     "metadata": {
      "needs_background": "light"
     },
     "output_type": "display_data"
    }
   ],
   "source": [
    "\n",
    "plt.plot(history.history['accuracy'])\n",
    "plt.plot(history.history['val_accuracy'])\n",
    "plt.show()\n",
    "plt.plot(history.history['loss'])\n",
    "plt.plot(history.history['val_loss'])\n",
    "plt.show()\n"
   ]
  },
  {
   "cell_type": "code",
   "execution_count": 20,
   "metadata": {
    "scrolled": true
   },
   "outputs": [],
   "source": [
    "test_data = pd.read_csv('mnist_test.csv')\n",
    "y_test = test_data['label']\n",
    "X_test = test_data.drop(['label'],axis=1)\n",
    "\n",
    "X_test = scaler.transform(X_test)\n",
    "#X_test_pca = pca.transform(X_test)\n",
    "y_test_dummies = pd.get_dummies(y_test)"
   ]
  },
  {
   "cell_type": "code",
   "execution_count": 27,
   "metadata": {},
   "outputs": [
    {
     "name": "stdout",
     "output_type": "stream",
     "text": [
      "1875/1875 [==============================] - 2s 1ms/step - loss: 0.0702 - accuracy: 0.9918\n"
     ]
    },
    {
     "data": {
      "text/plain": [
       "[0.07016294449567795, 0.9917666912078857]"
      ]
     },
     "execution_count": 27,
     "metadata": {},
     "output_type": "execute_result"
    }
   ],
   "source": [
    "nn_model.evaluate(X,y_dummies)"
   ]
  },
  {
   "cell_type": "code",
   "execution_count": 28,
   "metadata": {},
   "outputs": [
    {
     "name": "stdout",
     "output_type": "stream",
     "text": [
      "313/313 [==============================] - 0s 1ms/step - loss: 0.1979 - accuracy: 0.9750\n"
     ]
    },
    {
     "data": {
      "text/plain": [
       "[0.19786398112773895, 0.9750000238418579]"
      ]
     },
     "execution_count": 28,
     "metadata": {},
     "output_type": "execute_result"
    }
   ],
   "source": [
    "nn_model.evaluate(X_test,y_test_dummies)"
   ]
  },
  {
   "cell_type": "markdown",
   "metadata": {},
   "source": [
    "#### Trying convolutional network for digit recognition"
   ]
  },
  {
   "cell_type": "code",
   "execution_count": 29,
   "metadata": {},
   "outputs": [],
   "source": [
    "X_train_conv = X.reshape(60000,28,28)\n",
    "X_test_conv = X_test.reshape(10000,28,28)"
   ]
  },
  {
   "cell_type": "code",
   "execution_count": 30,
   "metadata": {
    "scrolled": true
   },
   "outputs": [
    {
     "name": "stdout",
     "output_type": "stream",
     "text": [
      "Model: \"model_3\"\n",
      "_________________________________________________________________\n",
      "Layer (type)                 Output Shape              Param #   \n",
      "=================================================================\n",
      "input_4 (InputLayer)         [(None, 28, 28, 1)]       0         \n",
      "_________________________________________________________________\n",
      "conv2d (Conv2D)              (None, 26, 26, 32)        320       \n",
      "_________________________________________________________________\n",
      "max_pooling2d (MaxPooling2D) (None, 13, 13, 32)        0         \n",
      "_________________________________________________________________\n",
      "conv2d_1 (Conv2D)            (None, 11, 11, 64)        18496     \n",
      "_________________________________________________________________\n",
      "max_pooling2d_1 (MaxPooling2 (None, 5, 5, 64)          0         \n",
      "_________________________________________________________________\n",
      "conv2d_2 (Conv2D)            (None, 3, 3, 64)          36928     \n",
      "_________________________________________________________________\n",
      "max_pooling2d_2 (MaxPooling2 (None, 1, 1, 64)          0         \n",
      "_________________________________________________________________\n",
      "flatten (Flatten)            (None, 64)                0         \n",
      "_________________________________________________________________\n",
      "dense_12 (Dense)             (None, 10)                650       \n",
      "=================================================================\n",
      "Total params: 56,394\n",
      "Trainable params: 56,394\n",
      "Non-trainable params: 0\n",
      "_________________________________________________________________\n"
     ]
    }
   ],
   "source": [
    "inp_layer = keras.Input(shape=(28,28,1))\n",
    "conv2d_1 = layers.Conv2D(32,kernel_size=(3,3),activation='relu')(inp_layer)\n",
    "maxpool2d_1 = layers.MaxPool2D(pool_size=(2,2))(conv2d_1)\n",
    "conv2d_2 = layers.Conv2D(64,kernel_size=(3,3),activation='relu')(maxpool2d_1)\n",
    "maxpool2d_2 = layers.MaxPool2D(pool_size=(2,2))(conv2d_2)\n",
    "conv2d_3 = layers.Conv2D(64,kernel_size=(3,3),activation='relu')(maxpool2d_2)\n",
    "maxpool2d_3 = layers.MaxPool2D(pool_size=(2,2))(conv2d_3)\n",
    "flat_layer = layers.Flatten()(maxpool2d_3)\n",
    "op_layer = layers.Dense(10,activation='softmax')(flat_layer)\n",
    "cnn_model = keras.Model(inp_layer,op_layer)\n",
    "cnn_model.compile(loss=keras.losses.CategoricalCrossentropy(),optimizer=keras.optimizers.Adam(),metrics=['accuracy'])\n",
    "cnn_model.summary()"
   ]
  },
  {
   "cell_type": "code",
   "execution_count": 35,
   "metadata": {
    "scrolled": true
   },
   "outputs": [
    {
     "name": "stdout",
     "output_type": "stream",
     "text": [
      "Epoch 1/15\n",
      "329/329 [==============================] - 14s 43ms/step - loss: 0.0130 - accuracy: 0.9959 - val_loss: 0.0728 - val_accuracy: 0.9822\n",
      "Epoch 2/15\n",
      "329/329 [==============================] - 14s 43ms/step - loss: 0.0141 - accuracy: 0.9952 - val_loss: 0.0781 - val_accuracy: 0.9800\n",
      "Epoch 3/15\n",
      "329/329 [==============================] - 14s 43ms/step - loss: 0.0128 - accuracy: 0.9957 - val_loss: 0.0646 - val_accuracy: 0.9837\n",
      "Epoch 4/15\n",
      "329/329 [==============================] - 14s 43ms/step - loss: 0.0094 - accuracy: 0.9967 - val_loss: 0.0591 - val_accuracy: 0.9866\n",
      "Epoch 5/15\n",
      "329/329 [==============================] - 14s 43ms/step - loss: 0.0066 - accuracy: 0.9980 - val_loss: 0.0643 - val_accuracy: 0.9853\n",
      "Epoch 6/15\n",
      "329/329 [==============================] - 14s 43ms/step - loss: 0.0080 - accuracy: 0.9973 - val_loss: 0.0808 - val_accuracy: 0.9814\n",
      "Epoch 7/15\n",
      "329/329 [==============================] - 14s 43ms/step - loss: 0.0084 - accuracy: 0.9973 - val_loss: 0.0792 - val_accuracy: 0.9827\n",
      "Epoch 8/15\n",
      "329/329 [==============================] - 15s 44ms/step - loss: 0.0049 - accuracy: 0.9984 - val_loss: 0.0630 - val_accuracy: 0.9857\n",
      "Epoch 9/15\n",
      "329/329 [==============================] - 16s 49ms/step - loss: 0.0081 - accuracy: 0.9972 - val_loss: 0.0730 - val_accuracy: 0.9846\n",
      "Epoch 10/15\n",
      "329/329 [==============================] - 15s 47ms/step - loss: 0.0039 - accuracy: 0.9988 - val_loss: 0.0657 - val_accuracy: 0.9859\n",
      "Epoch 11/15\n",
      "329/329 [==============================] - 15s 44ms/step - loss: 0.0057 - accuracy: 0.9982 - val_loss: 0.0700 - val_accuracy: 0.9860\n",
      "Epoch 12/15\n",
      "329/329 [==============================] - 14s 44ms/step - loss: 0.0087 - accuracy: 0.9969 - val_loss: 0.0681 - val_accuracy: 0.9846\n",
      "Epoch 13/15\n",
      "329/329 [==============================] - 15s 46ms/step - loss: 0.0078 - accuracy: 0.9974 - val_loss: 0.0730 - val_accuracy: 0.9849\n",
      "Epoch 14/15\n",
      "329/329 [==============================] - 16s 47ms/step - loss: 0.0030 - accuracy: 0.9991 - val_loss: 0.1104 - val_accuracy: 0.9808\n",
      "Epoch 15/15\n",
      "329/329 [==============================] - 16s 48ms/step - loss: 0.0046 - accuracy: 0.9987 - val_loss: 0.0707 - val_accuracy: 0.9858\n"
     ]
    }
   ],
   "source": [
    "fit_history = cnn_model.fit(X_train_conv, y_dummies, epochs=15,batch_size=128, validation_split=0.3)"
   ]
  },
  {
   "cell_type": "code",
   "execution_count": 36,
   "metadata": {},
   "outputs": [
    {
     "data": {
      "image/png": "[encoded data removed]",
      "text/plain": [
       "<Figure size 432x288 with 1 Axes>"
      ]
     },
     "metadata": {
      "needs_background": "light"
     },
     "output_type": "display_data"
    },
    {
     "data": {
      "image/png": "[encoded data removed]",
      "text/plain": [
       "<Figure size 432x288 with 1 Axes>"
      ]
     },
     "metadata": {
      "needs_background": "light"
     },
     "output_type": "display_data"
    }
   ],
   "source": [
    "plt.plot(fit_history.history['accuracy'])\n",
    "plt.plot(fit_history.history['val_accuracy'])\n",
    "plt.show()\n",
    "plt.plot(fit_history.history['loss'])\n",
    "plt.plot(fit_history.history['val_loss'])\n",
    "plt.show()"
   ]
  },
  {
   "cell_type": "code",
   "execution_count": 37,
   "metadata": {},
   "outputs": [
    {
     "name": "stdout",
     "output_type": "stream",
     "text": [
      "1875/1875 [==============================] - 7s 4ms/step - loss: 0.0230 - accuracy: 0.9952\n"
     ]
    },
    {
     "data": {
      "text/plain": [
       "[0.023022033274173737, 0.9952166676521301]"
      ]
     },
     "execution_count": 37,
     "metadata": {},
     "output_type": "execute_result"
    }
   ],
   "source": [
    "cnn_model.evaluate(X_train_conv,y_dummies)"
   ]
  },
  {
   "cell_type": "code",
   "execution_count": 38,
   "metadata": {},
   "outputs": [
    {
     "name": "stdout",
     "output_type": "stream",
     "text": [
      "313/313 [==============================] - 1s 4ms/step - loss: 0.0729 - accuracy: 0.9853\n"
     ]
    },
    {
     "data": {
      "text/plain": [
       "[0.07286813110113144, 0.9853000044822693]"
      ]
     },
     "execution_count": 38,
     "metadata": {},
     "output_type": "execute_result"
    }
   ],
   "source": [
    "cnn_model.evaluate(X_test_conv,y_test_dummies)"
   ]
  },
  {
   "cell_type": "markdown",
   "metadata": {},
   "source": [
    "#### Through CNN we were able to achieve best performance as compared to SVM and AdaBoost"
   ]
  }
 ],
 "metadata": {
  "kernelspec": {
   "display_name": "Python 3",
   "language": "python",
   "name": "python3"
  },
  "language_info": {
   "codemirror_mode": {
    "name": "ipython",
    "version": 3
   },
   "file_extension": ".py",
   "mimetype": "text/x-python",
   "name": "python",
   "nbconvert_exporter": "python",
   "pygments_lexer": "ipython3",
   "version": "3.7.9"
  }
 },
 "nbformat": 4,
 "nbformat_minor": 4
}
